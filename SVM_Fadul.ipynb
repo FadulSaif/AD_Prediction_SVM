{
  "nbformat": 4,
  "nbformat_minor": 0,
  "metadata": {
    "colab": {
      "provenance": [],
      "authorship_tag": "ABX9TyO+Y/m5iw7O/qXoZBHz44vY",
      "include_colab_link": true
    },
    "kernelspec": {
      "name": "python3",
      "display_name": "Python 3"
    },
    "language_info": {
      "name": "python"
    }
  },
  "cells": [
    {
      "cell_type": "markdown",
      "metadata": {
        "id": "view-in-github",
        "colab_type": "text"
      },
      "source": [
        "<a href=\"https://colab.research.google.com/github/FadulSaif/AD_Prediction_SVM/blob/main/SVM_Fadul.ipynb\" target=\"_parent\"><img src=\"https://colab.research.google.com/assets/colab-badge.svg\" alt=\"Open In Colab\"/></a>"
      ]
    },
    {
      "cell_type": "code",
      "execution_count": 2,
      "metadata": {
        "id": "EydhHxdMyJY-"
      },
      "outputs": [],
      "source": [
        "import pandas as pd\n",
        "import numpy as np\n",
        "import matplotlib.pyplot as plt\n",
        "import seaborn as sns\n",
        "from sklearn.model_selection import train_test_split, GridSearchCV\n",
        "from sklearn.preprocessing import StandardScaler,  MinMaxScaler, OneHotEncoder, LabelEncoder\n",
        "from sklearn.impute import SimpleImputer\n",
        "from sklearn.compose import ColumnTransformer\n",
        "from sklearn.pipeline import Pipeline\n",
        "from sklearn.svm import SVC\n",
        "from sklearn.ensemble import RandomForestClassifier\n",
        "from sklearn.metrics import accuracy_score, classification_report, confusion_matrix\n"
      ]
    },
    {
      "cell_type": "markdown",
      "source": [
        "Data Cleaning of the oasis dataset.\n",
        "\n"
      ],
      "metadata": {
        "id": "b9CKT9hRPS6q"
      }
    },
    {
      "cell_type": "code",
      "source": [
        "from google.colab import drive, files\n",
        "drive.mount('/content/drive')\n",
        "df = pd.read_csv('/content/drive/My Drive/oasis_cross-sectional.csv')\n",
        "print('CSV file uploaded')"
      ],
      "metadata": {
        "colab": {
          "base_uri": "https://localhost:8080/"
        },
        "id": "4aRtnHn7Ps6S",
        "outputId": "a228a306-6c30-4bf5-c66b-412a5678bf3f"
      },
      "execution_count": 3,
      "outputs": [
        {
          "output_type": "stream",
          "name": "stdout",
          "text": [
            "Mounted at /content/drive\n",
            "CSV file uploaded\n"
          ]
        }
      ]
    },
    {
      "cell_type": "code",
      "source": [
        "print(df.isnull().sum())\n"
      ],
      "metadata": {
        "colab": {
          "base_uri": "https://localhost:8080/"
        },
        "id": "xI-N0v3ZP7om",
        "outputId": "8e8b63eb-7829-4bdd-b30b-48978caa6dfb"
      },
      "execution_count": 4,
      "outputs": [
        {
          "output_type": "stream",
          "name": "stdout",
          "text": [
            "ID         0\n",
            "M/F        0\n",
            "Hand       0\n",
            "Age        0\n",
            "Educ     201\n",
            "SES      220\n",
            "MMSE     201\n",
            "CDR      201\n",
            "eTIV       0\n",
            "nWBV       0\n",
            "ASF        0\n",
            "Delay    416\n",
            "dtype: int64\n"
          ]
        }
      ]
    },
    {
      "cell_type": "code",
      "source": [
        "df = df.drop(columns=[\"ID\", \"Delay\", \"Hand\"], errors=\"ignore\")  # `errors=\"ignore\"` prevents errors if columns don't exist"
      ],
      "metadata": {
        "id": "Ldn83a1O2VMx"
      },
      "execution_count": 5,
      "outputs": []
    },
    {
      "cell_type": "code",
      "source": [
        "# Columns with missing values\n",
        "columns_to_impute = [\"Educ\", \"SES\", \"MMSE\", \"CDR\"]\n",
        "\n",
        "# Initialize the imputer (median strategy)\n",
        "imputer = SimpleImputer(strategy=\"median\")\n",
        "\n",
        "# Fill missing values\n",
        "df[columns_to_impute] = imputer.fit_transform(df[columns_to_impute])"
      ],
      "metadata": {
        "id": "T3h7r4A6ivuW"
      },
      "execution_count": 6,
      "outputs": []
    },
    {
      "cell_type": "code",
      "source": [
        "# Handle CDR values of 3 by changing them to 2\n",
        "df['CDR'] = df['CDR'].replace(3.0, 2.0)"
      ],
      "metadata": {
        "id": "1adiQhAMfHob"
      },
      "execution_count": 7,
      "outputs": []
    },
    {
      "cell_type": "code",
      "source": [
        "# Convert CDR to string labels for classification\n",
        "df['CDR'] = df['CDR'].astype(str)\n",
        "\n",
        "# Optional: Verify the data type\n",
        "print(\"\\nData type of CDR after converting to category:\")\n",
        "print(df['CDR'].dtype)"
      ],
      "metadata": {
        "colab": {
          "base_uri": "https://localhost:8080/"
        },
        "id": "6aadmjg_fmJk",
        "outputId": "a0c0978c-9538-40cd-a69a-1ca95e850048"
      },
      "execution_count": 8,
      "outputs": [
        {
          "output_type": "stream",
          "name": "stdout",
          "text": [
            "\n",
            "Data type of CDR after converting to category:\n",
            "object\n"
          ]
        }
      ]
    },
    {
      "cell_type": "code",
      "source": [
        "print(df.isnull().sum())\n",
        "print(df.columns.tolist())"
      ],
      "metadata": {
        "id": "ySLuuuH3i06N",
        "colab": {
          "base_uri": "https://localhost:8080/"
        },
        "outputId": "20545cec-ce0c-4359-898e-737248350a9d"
      },
      "execution_count": 9,
      "outputs": [
        {
          "output_type": "stream",
          "name": "stdout",
          "text": [
            "M/F     0\n",
            "Age     0\n",
            "Educ    0\n",
            "SES     0\n",
            "MMSE    0\n",
            "CDR     0\n",
            "eTIV    0\n",
            "nWBV    0\n",
            "ASF     0\n",
            "dtype: int64\n",
            "['M/F', 'Age', 'Educ', 'SES', 'MMSE', 'CDR', 'eTIV', 'nWBV', 'ASF']\n"
          ]
        }
      ]
    },
    {
      "cell_type": "code",
      "source": [
        "# Preprocess string values (e.g., strip whitespace, convert to upper case)\n",
        "df['M/F'] = df['M/F'].astype(str).str.strip().str.upper()\n",
        "\n",
        "# Count unexpected values before mapping\n",
        "unexpected = df[~df['M/F'].isin(['F', 'M'])]\n",
        "print(f\"Found {len(unexpected)} unexpected gender values:\\n\", unexpected['M/F'].value_counts())\n",
        "\n",
        "# Map known values to 0/1, others become NaN\n",
        "df['M/F'] = df['M/F'].map({'F': 0, 'M': 1})\n",
        "\n",
        "# Impute missing with most frequent value\n",
        "mf_imputer = SimpleImputer(strategy='most_frequent')\n",
        "df['M/F'] = mf_imputer.fit_transform(df[['M/F']])\n",
        "\n",
        "# Report\n",
        "print(df['M/F'].value_counts())\n",
        "print(\"Missing values after imputation:\", df['M/F'].isnull().sum())\n"
      ],
      "metadata": {
        "colab": {
          "base_uri": "https://localhost:8080/"
        },
        "id": "nPZJ-FHKv-uD",
        "outputId": "ed63bd10-af2d-4a91-f1d4-58d44fe13333"
      },
      "execution_count": 10,
      "outputs": [
        {
          "output_type": "stream",
          "name": "stdout",
          "text": [
            "Found 0 unexpected gender values:\n",
            " Series([], Name: count, dtype: int64)\n",
            "M/F\n",
            "0    268\n",
            "1    168\n",
            "Name: count, dtype: int64\n",
            "Missing values after imputation: 0\n"
          ]
        }
      ]
    },
    {
      "cell_type": "code",
      "source": [
        "print(df.isnull().sum())\n"
      ],
      "metadata": {
        "colab": {
          "base_uri": "https://localhost:8080/"
        },
        "outputId": "f06dddf6-3ba2-4930-bc43-54827234ae99",
        "id": "SOIFbtTJieWg"
      },
      "execution_count": 11,
      "outputs": [
        {
          "output_type": "stream",
          "name": "stdout",
          "text": [
            "M/F     0\n",
            "Age     0\n",
            "Educ    0\n",
            "SES     0\n",
            "MMSE    0\n",
            "CDR     0\n",
            "eTIV    0\n",
            "nWBV    0\n",
            "ASF     0\n",
            "dtype: int64\n"
          ]
        }
      ]
    },
    {
      "cell_type": "code",
      "source": [
        "# Features (X): All columns EXCEPT 'CDR'\n",
        "X = df.drop(\"CDR\", axis=1)\n",
        "\n",
        "# Target (y): Only the 'CDR' column\n",
        "y = df[\"CDR\"]\n",
        "X_train, X_test, y_train, y_test = train_test_split(X, y, test_size=0.2, stratify=y)\n",
        "\n",
        "print(\"X shape:\", X.shape)\n",
        "print(\"y shape:\", y.shape)"
      ],
      "metadata": {
        "colab": {
          "base_uri": "https://localhost:8080/"
        },
        "id": "DitO0SNvX4Sb",
        "outputId": "9198eb4a-b5bd-40a3-a4b6-087ff2691e83"
      },
      "execution_count": 12,
      "outputs": [
        {
          "output_type": "stream",
          "name": "stdout",
          "text": [
            "X shape: (436, 8)\n",
            "y shape: (436,)\n"
          ]
        }
      ]
    },
    {
      "cell_type": "code",
      "source": [
        "# Split the data (80% train, 20% test)\n",
        "X_train, X_test, y_train, y_test = train_test_split(\n",
        "    X, y,\n",
        "    test_size=0.2,\n",
        "    random_state=42\n",
        ")\n",
        "\n",
        "print(\"Train shapes:\", X_train.shape, y_train.shape)\n",
        "print(\"Test shapes:\", X_test.shape, y_test.shape)"
      ],
      "metadata": {
        "colab": {
          "base_uri": "https://localhost:8080/"
        },
        "id": "rp43glPvYtxK",
        "outputId": "4073073b-c23a-4339-cab2-862fe1768052"
      },
      "execution_count": 13,
      "outputs": [
        {
          "output_type": "stream",
          "name": "stdout",
          "text": [
            "Train shapes: (348, 8) (348,)\n",
            "Test shapes: (88, 8) (88,)\n"
          ]
        }
      ]
    },
    {
      "cell_type": "code",
      "source": [
        "# Columns to scale (numerical features only)\n",
        "numeric_cols = [\"Age\", \"Educ\", \"SES\", \"MMSE\", \"eTIV\", \"nWBV\", \"ASF\"]\n",
        "\n",
        "# Initialize scaler (fit only on training data)\n",
        "scaler = StandardScaler()\n",
        "X_train[numeric_cols] = scaler.fit_transform(X_train[numeric_cols])\n",
        "X_test[numeric_cols] = scaler.transform(X_test[numeric_cols])  # Use same scaling for test"
      ],
      "metadata": {
        "id": "OV_dBfJTY4m6"
      },
      "execution_count": 14,
      "outputs": []
    },
    {
      "cell_type": "code",
      "source": [
        "# Separate features and target variable\n",
        "X = df.drop('CDR', axis=1)\n",
        "y = df['CDR']\n",
        "\n",
        "# Initialize the scaler\n",
        "scaler = StandardScaler()\n",
        "\n",
        "# Fit and transform the features\n",
        "X_scaled = scaler.fit_transform(X)\n",
        "\n",
        "# Convert back to DataFrame for better readability\n",
        "X_scaled = pd.DataFrame(X_scaled, columns=X.columns)\n",
        "\n",
        "# Verify scaling\n",
        "print(X_scaled.describe().loc[['mean', 'std']])"
      ],
      "metadata": {
        "colab": {
          "base_uri": "https://localhost:8080/"
        },
        "id": "e3p5GRx_c6-G",
        "outputId": "65862d18-bc74-447f-d78b-8205ab8a274c"
      },
      "execution_count": 15,
      "outputs": [
        {
          "output_type": "stream",
          "name": "stdout",
          "text": [
            "               M/F           Age          Educ           SES          MMSE  \\\n",
            "mean -3.259370e-17 -5.092766e-17 -2.363044e-16 -2.159333e-16 -6.111319e-16   \n",
            "std   1.001149e+00  1.001149e+00  1.001149e+00  1.001149e+00  1.001149e+00   \n",
            "\n",
            "              eTIV          nWBV           ASF  \n",
            "mean -2.088034e-16 -7.741005e-16  2.127758e-15  \n",
            "std   1.001149e+00  1.001149e+00  1.001149e+00  \n"
          ]
        }
      ]
    },
    {
      "cell_type": "markdown",
      "source": [
        "SVM Training"
      ],
      "metadata": {
        "id": "LMQrK9WprZv1"
      }
    },
    {
      "cell_type": "code",
      "source": [
        "svc_model = SVC(random_state=42)\n",
        "print(\"Training the SVC model...\")\n",
        "svc_model.fit(X_train, y_train)\n",
        "print(\"Model training complete.\")"
      ],
      "metadata": {
        "colab": {
          "base_uri": "https://localhost:8080/"
        },
        "id": "H0OxdzjBrXXJ",
        "outputId": "5d711b6a-fea3-4b2a-85d9-5728af562eab"
      },
      "execution_count": 16,
      "outputs": [
        {
          "output_type": "stream",
          "name": "stdout",
          "text": [
            "Training the SVC model...\n",
            "Model training complete.\n"
          ]
        }
      ]
    },
    {
      "cell_type": "code",
      "source": [
        "# Make predictions on the test data\n",
        "print(\"Making predictions on the test data...\")\n",
        "svc_predictions = svc_model.predict(X_test)\n",
        "print(\"Predictions complete.\")"
      ],
      "metadata": {
        "colab": {
          "base_uri": "https://localhost:8080/"
        },
        "id": "I70bmq61skOe",
        "outputId": "7da4de0c-1d3a-43e3-dfb8-afec18c0581a"
      },
      "execution_count": 17,
      "outputs": [
        {
          "output_type": "stream",
          "name": "stdout",
          "text": [
            "Making predictions on the test data...\n",
            "Predictions complete.\n"
          ]
        }
      ]
    },
    {
      "cell_type": "code",
      "source": [
        "y_train.value_counts()"
      ],
      "metadata": {
        "colab": {
          "base_uri": "https://localhost:8080/",
          "height": 241
        },
        "id": "eXPCqwBjDGYK",
        "outputId": "85324619-0457-4dce-8a6e-4e6ee95bdc3e"
      },
      "execution_count": 18,
      "outputs": [
        {
          "output_type": "execute_result",
          "data": {
            "text/plain": [
              "CDR\n",
              "0.0    267\n",
              "0.5     59\n",
              "1.0     21\n",
              "2.0      1\n",
              "Name: count, dtype: int64"
            ],
            "text/html": [
              "<div>\n",
              "<style scoped>\n",
              "    .dataframe tbody tr th:only-of-type {\n",
              "        vertical-align: middle;\n",
              "    }\n",
              "\n",
              "    .dataframe tbody tr th {\n",
              "        vertical-align: top;\n",
              "    }\n",
              "\n",
              "    .dataframe thead th {\n",
              "        text-align: right;\n",
              "    }\n",
              "</style>\n",
              "<table border=\"1\" class=\"dataframe\">\n",
              "  <thead>\n",
              "    <tr style=\"text-align: right;\">\n",
              "      <th></th>\n",
              "      <th>count</th>\n",
              "    </tr>\n",
              "    <tr>\n",
              "      <th>CDR</th>\n",
              "      <th></th>\n",
              "    </tr>\n",
              "  </thead>\n",
              "  <tbody>\n",
              "    <tr>\n",
              "      <th>0.0</th>\n",
              "      <td>267</td>\n",
              "    </tr>\n",
              "    <tr>\n",
              "      <th>0.5</th>\n",
              "      <td>59</td>\n",
              "    </tr>\n",
              "    <tr>\n",
              "      <th>1.0</th>\n",
              "      <td>21</td>\n",
              "    </tr>\n",
              "    <tr>\n",
              "      <th>2.0</th>\n",
              "      <td>1</td>\n",
              "    </tr>\n",
              "  </tbody>\n",
              "</table>\n",
              "</div><br><label><b>dtype:</b> int64</label>"
            ]
          },
          "metadata": {},
          "execution_count": 18
        }
      ]
    },
    {
      "cell_type": "code",
      "source": [
        "# Evaluate the model\n",
        "print(\"\\nSVC Model Evaluation:\")\n",
        "print(\"Accuracy:\", accuracy_score(y_test, svc_predictions))\n",
        "print(\"\\nClassification Report:\\n\", classification_report(y_test, svc_predictions))"
      ],
      "metadata": {
        "colab": {
          "base_uri": "https://localhost:8080/"
        },
        "id": "7TEp3PQ6sfmf",
        "outputId": "a7fe4c7f-f785-4e12-aa70-3580a16545e3"
      },
      "execution_count": 19,
      "outputs": [
        {
          "output_type": "stream",
          "name": "stdout",
          "text": [
            "\n",
            "SVC Model Evaluation:\n",
            "Accuracy: 0.8068181818181818\n",
            "\n",
            "Classification Report:\n",
            "               precision    recall  f1-score   support\n",
            "\n",
            "         0.0       0.89      0.97      0.93        69\n",
            "         0.5       0.33      0.36      0.35        11\n",
            "         1.0       0.00      0.00      0.00         7\n",
            "         2.0       0.00      0.00      0.00         1\n",
            "\n",
            "    accuracy                           0.81        88\n",
            "   macro avg       0.31      0.33      0.32        88\n",
            "weighted avg       0.74      0.81      0.77        88\n",
            "\n"
          ]
        },
        {
          "output_type": "stream",
          "name": "stderr",
          "text": [
            "/usr/local/lib/python3.11/dist-packages/sklearn/metrics/_classification.py:1565: UndefinedMetricWarning: Precision is ill-defined and being set to 0.0 in labels with no predicted samples. Use `zero_division` parameter to control this behavior.\n",
            "  _warn_prf(average, modifier, f\"{metric.capitalize()} is\", len(result))\n",
            "/usr/local/lib/python3.11/dist-packages/sklearn/metrics/_classification.py:1565: UndefinedMetricWarning: Precision is ill-defined and being set to 0.0 in labels with no predicted samples. Use `zero_division` parameter to control this behavior.\n",
            "  _warn_prf(average, modifier, f\"{metric.capitalize()} is\", len(result))\n",
            "/usr/local/lib/python3.11/dist-packages/sklearn/metrics/_classification.py:1565: UndefinedMetricWarning: Precision is ill-defined and being set to 0.0 in labels with no predicted samples. Use `zero_division` parameter to control this behavior.\n",
            "  _warn_prf(average, modifier, f\"{metric.capitalize()} is\", len(result))\n"
          ]
        }
      ]
    },
    {
      "cell_type": "code",
      "source": [
        "# Visualize the Confusion Matrix\n",
        "cm = confusion_matrix(y_test, svc_predictions)\n",
        "\n",
        "plt.figure(figsize=(8, 6))\n",
        "sns.heatmap(cm, annot=True, fmt='d', cmap='Blues', xticklabels=svc_model.classes_, yticklabels=svc_model.classes_)\n",
        "plt.xlabel('Predicted')\n",
        "plt.ylabel('Actual')\n",
        "plt.title('Confusion Matrix for SVC Model (Oasis)')\n",
        "plt.show()\n",
        "\n",
        "print(\"\\nConfusion Matrix:\")\n",
        "print(cm)"
      ],
      "metadata": {
        "colab": {
          "base_uri": "https://localhost:8080/",
          "height": 673
        },
        "id": "Rl7sJPSCspaB",
        "outputId": "c936563b-52cf-4ce0-8083-2875bb9c83b8"
      },
      "execution_count": 20,
      "outputs": [
        {
          "output_type": "display_data",
          "data": {
            "text/plain": [
              "<Figure size 800x600 with 2 Axes>"
            ],
            "image/png": "[encoded data removed]"
          },
          "metadata": {}
        },
        {
          "output_type": "stream",
          "name": "stdout",
          "text": [
            "\n",
            "Confusion Matrix:\n",
            "[[67  2  0  0]\n",
            " [ 7  4  0  0]\n",
            " [ 1  6  0  0]\n",
            " [ 0  0  1  0]]\n"
          ]
        }
      ]
    },
    {
      "cell_type": "markdown",
      "source": [
        "Experiment 1: Kernel Type"
      ],
      "metadata": {
        "id": "J9dq4LOVXEN6"
      }
    },
    {
      "cell_type": "code",
      "source": [
        "param_grid_1 = {\n",
        "    'kernel': ['linear', 'rbf', 'poly', 'sigmoid']\n",
        "}\n",
        "\n",
        "svc1 = SVC()\n",
        "grid1 = GridSearchCV(svc1, param_grid_1, cv=5, scoring='f1_macro', verbose=1, n_jobs=-1)\n",
        "grid1.fit(X_train, y_train)\n",
        "\n",
        "# Evaluation\n",
        "print(\"Best Kernel:\", grid1.best_params_)\n",
        "y_pred1 = grid1.predict(X_test)\n",
        "print(\"Accuracy:\", accuracy_score(y_test, y_pred1))\n",
        "print(\"Classification Report:\\n\", classification_report(y_test, y_pred1))"
      ],
      "metadata": {
        "colab": {
          "base_uri": "https://localhost:8080/"
        },
        "id": "Yekh4pQJXISr",
        "outputId": "956ac68b-d955-4356-eeea-96dd4027fa15"
      },
      "execution_count": 21,
      "outputs": [
        {
          "output_type": "stream",
          "name": "stdout",
          "text": [
            "Fitting 5 folds for each of 4 candidates, totalling 20 fits\n"
          ]
        },
        {
          "output_type": "stream",
          "name": "stderr",
          "text": [
            "/usr/local/lib/python3.11/dist-packages/sklearn/model_selection/_split.py:805: UserWarning: The least populated class in y has only 1 members, which is less than n_splits=5.\n",
            "  warnings.warn(\n"
          ]
        },
        {
          "output_type": "stream",
          "name": "stdout",
          "text": [
            "Best Kernel: {'kernel': 'linear'}\n",
            "Accuracy: 0.7954545454545454\n",
            "Classification Report:\n",
            "               precision    recall  f1-score   support\n",
            "\n",
            "         0.0       0.89      0.96      0.92        69\n",
            "         0.5       0.31      0.36      0.33        11\n",
            "         1.0       0.00      0.00      0.00         7\n",
            "         2.0       0.00      0.00      0.00         1\n",
            "\n",
            "    accuracy                           0.80        88\n",
            "   macro avg       0.30      0.33      0.31        88\n",
            "weighted avg       0.74      0.80      0.77        88\n",
            "\n"
          ]
        },
        {
          "output_type": "stream",
          "name": "stderr",
          "text": [
            "/usr/local/lib/python3.11/dist-packages/sklearn/metrics/_classification.py:1565: UndefinedMetricWarning: Precision is ill-defined and being set to 0.0 in labels with no predicted samples. Use `zero_division` parameter to control this behavior.\n",
            "  _warn_prf(average, modifier, f\"{metric.capitalize()} is\", len(result))\n",
            "/usr/local/lib/python3.11/dist-packages/sklearn/metrics/_classification.py:1565: UndefinedMetricWarning: Precision is ill-defined and being set to 0.0 in labels with no predicted samples. Use `zero_division` parameter to control this behavior.\n",
            "  _warn_prf(average, modifier, f\"{metric.capitalize()} is\", len(result))\n",
            "/usr/local/lib/python3.11/dist-packages/sklearn/metrics/_classification.py:1565: UndefinedMetricWarning: Precision is ill-defined and being set to 0.0 in labels with no predicted samples. Use `zero_division` parameter to control this behavior.\n",
            "  _warn_prf(average, modifier, f\"{metric.capitalize()} is\", len(result))\n"
          ]
        }
      ]
    },
    {
      "cell_type": "markdown",
      "source": [
        "Experiment 2: Tuning C and gamma"
      ],
      "metadata": {
        "id": "R3bH9910XJLq"
      }
    },
    {
      "cell_type": "code",
      "source": [
        "param_grid_2 = {\n",
        "    'C': [0.1, 1, 10, 100],\n",
        "    'gamma': ['scale', 'auto']\n",
        "}\n",
        "\n",
        "svc2 = SVC(kernel='rbf')\n",
        "grid2 = GridSearchCV(svc2, param_grid_2, cv=5, scoring='f1_macro', verbose=1, n_jobs=-1)\n",
        "grid2.fit(X_train, y_train)\n",
        "\n",
        "print(\"Best Params:\", grid2.best_params_)\n",
        "y_pred2 = grid2.predict(X_test)\n",
        "print(\"Accuracy:\", accuracy_score(y_test, y_pred2))\n",
        "print(\"Classification Report:\\n\", classification_report(y_test, y_pred2))"
      ],
      "metadata": {
        "colab": {
          "base_uri": "https://localhost:8080/"
        },
        "id": "pCSSaWAaXKxu",
        "outputId": "4e13a863-aaa5-4c76-cf86-e4d04e6745b0"
      },
      "execution_count": 22,
      "outputs": [
        {
          "output_type": "stream",
          "name": "stdout",
          "text": [
            "Fitting 5 folds for each of 8 candidates, totalling 40 fits\n"
          ]
        },
        {
          "output_type": "stream",
          "name": "stderr",
          "text": [
            "/usr/local/lib/python3.11/dist-packages/sklearn/model_selection/_split.py:805: UserWarning: The least populated class in y has only 1 members, which is less than n_splits=5.\n",
            "  warnings.warn(\n"
          ]
        },
        {
          "output_type": "stream",
          "name": "stdout",
          "text": [
            "Best Params: {'C': 10, 'gamma': 'scale'}\n",
            "Accuracy: 0.8295454545454546\n",
            "Classification Report:\n",
            "               precision    recall  f1-score   support\n",
            "\n",
            "         0.0       0.92      0.96      0.94        69\n",
            "         0.5       0.43      0.55      0.48        11\n",
            "         1.0       0.50      0.14      0.22         7\n",
            "         2.0       0.00      0.00      0.00         1\n",
            "\n",
            "    accuracy                           0.83        88\n",
            "   macro avg       0.46      0.41      0.41        88\n",
            "weighted avg       0.81      0.83      0.81        88\n",
            "\n"
          ]
        },
        {
          "output_type": "stream",
          "name": "stderr",
          "text": [
            "/usr/local/lib/python3.11/dist-packages/sklearn/metrics/_classification.py:1565: UndefinedMetricWarning: Precision is ill-defined and being set to 0.0 in labels with no predicted samples. Use `zero_division` parameter to control this behavior.\n",
            "  _warn_prf(average, modifier, f\"{metric.capitalize()} is\", len(result))\n",
            "/usr/local/lib/python3.11/dist-packages/sklearn/metrics/_classification.py:1565: UndefinedMetricWarning: Precision is ill-defined and being set to 0.0 in labels with no predicted samples. Use `zero_division` parameter to control this behavior.\n",
            "  _warn_prf(average, modifier, f\"{metric.capitalize()} is\", len(result))\n",
            "/usr/local/lib/python3.11/dist-packages/sklearn/metrics/_classification.py:1565: UndefinedMetricWarning: Precision is ill-defined and being set to 0.0 in labels with no predicted samples. Use `zero_division` parameter to control this behavior.\n",
            "  _warn_prf(average, modifier, f\"{metric.capitalize()} is\", len(result))\n"
          ]
        }
      ]
    },
    {
      "cell_type": "markdown",
      "source": [],
      "metadata": {
        "id": "GX_hRsxCi2ig"
      }
    },
    {
      "cell_type": "markdown",
      "source": [
        "Experiment 3: Tuning degree for Polynomial Kernel"
      ],
      "metadata": {
        "id": "DRS9bTfoXLVA"
      }
    },
    {
      "cell_type": "code",
      "source": [
        "param_grid_3 = {\n",
        "    'degree': [2, 3, 4, 5],\n",
        "    'C': [1, 10]\n",
        "}\n",
        "\n",
        "svc3 = SVC(kernel='poly')\n",
        "grid3 = GridSearchCV(svc3, param_grid_3, cv=5, scoring='f1_macro', verbose=1, n_jobs=-1)\n",
        "grid3.fit(X_train, y_train)\n",
        "\n",
        "print(\"Best Params:\", grid3.best_params_)\n",
        "y_pred3 = grid3.predict(X_test)\n",
        "print(\"Accuracy:\", accuracy_score(y_test, y_pred3))\n",
        "print(\"Classification Report:\\n\", classification_report(y_test, y_pred3))"
      ],
      "metadata": {
        "colab": {
          "base_uri": "https://localhost:8080/"
        },
        "id": "xFqGj_RfXM6l",
        "outputId": "701c74e5-21f6-4f8a-91eb-5464018a7dc9"
      },
      "execution_count": 23,
      "outputs": [
        {
          "output_type": "stream",
          "name": "stdout",
          "text": [
            "Fitting 5 folds for each of 8 candidates, totalling 40 fits\n"
          ]
        },
        {
          "output_type": "stream",
          "name": "stderr",
          "text": [
            "/usr/local/lib/python3.11/dist-packages/sklearn/model_selection/_split.py:805: UserWarning: The least populated class in y has only 1 members, which is less than n_splits=5.\n",
            "  warnings.warn(\n"
          ]
        },
        {
          "output_type": "stream",
          "name": "stdout",
          "text": [
            "Best Params: {'C': 10, 'degree': 3}\n",
            "Accuracy: 0.7954545454545454\n",
            "Classification Report:\n",
            "               precision    recall  f1-score   support\n",
            "\n",
            "         0.0       0.88      0.96      0.92        69\n",
            "         0.5       0.27      0.27      0.27        11\n",
            "         1.0       0.50      0.14      0.22         7\n",
            "         2.0       0.00      0.00      0.00         1\n",
            "\n",
            "    accuracy                           0.80        88\n",
            "   macro avg       0.41      0.34      0.35        88\n",
            "weighted avg       0.76      0.80      0.77        88\n",
            "\n"
          ]
        },
        {
          "output_type": "stream",
          "name": "stderr",
          "text": [
            "/usr/local/lib/python3.11/dist-packages/sklearn/metrics/_classification.py:1565: UndefinedMetricWarning: Precision is ill-defined and being set to 0.0 in labels with no predicted samples. Use `zero_division` parameter to control this behavior.\n",
            "  _warn_prf(average, modifier, f\"{metric.capitalize()} is\", len(result))\n",
            "/usr/local/lib/python3.11/dist-packages/sklearn/metrics/_classification.py:1565: UndefinedMetricWarning: Precision is ill-defined and being set to 0.0 in labels with no predicted samples. Use `zero_division` parameter to control this behavior.\n",
            "  _warn_prf(average, modifier, f\"{metric.capitalize()} is\", len(result))\n",
            "/usr/local/lib/python3.11/dist-packages/sklearn/metrics/_classification.py:1565: UndefinedMetricWarning: Precision is ill-defined and being set to 0.0 in labels with no predicted samples. Use `zero_division` parameter to control this behavior.\n",
            "  _warn_prf(average, modifier, f\"{metric.capitalize()} is\", len(result))\n"
          ]
        }
      ]
    },
    {
      "cell_type": "markdown",
      "source": [
        "Experiment 4: Combined Grid Search"
      ],
      "metadata": {
        "id": "5cmgxKmRXNTd"
      }
    },
    {
      "cell_type": "code",
      "source": [
        "param_grid_4 = {\n",
        "    'kernel': ['linear', 'rbf'],\n",
        "    'C': [0.1, 1, 10],\n",
        "    'gamma': ['scale', 'auto']\n",
        "}\n",
        "\n",
        "svc4 = SVC()\n",
        "grid4 = GridSearchCV(svc4, param_grid_4, cv=5, scoring='f1_macro', verbose=1, n_jobs=-1)\n",
        "grid4.fit(X_train, y_train)\n",
        "\n",
        "print(\"Best Params:\", grid4.best_params_)\n",
        "y_pred4 = grid4.predict(X_test)\n",
        "print(\"Accuracy:\", accuracy_score(y_test, y_pred4))\n",
        "print(\"Classification Report:\\n\", classification_report(y_test, y_pred4))\n"
      ],
      "metadata": {
        "colab": {
          "base_uri": "https://localhost:8080/"
        },
        "id": "tgxYRUs_XPrV",
        "outputId": "8fb93e71-072b-43e8-b216-fcfe0a407682"
      },
      "execution_count": 24,
      "outputs": [
        {
          "output_type": "stream",
          "name": "stdout",
          "text": [
            "Fitting 5 folds for each of 12 candidates, totalling 60 fits\n"
          ]
        },
        {
          "output_type": "stream",
          "name": "stderr",
          "text": [
            "/usr/local/lib/python3.11/dist-packages/sklearn/model_selection/_split.py:805: UserWarning: The least populated class in y has only 1 members, which is less than n_splits=5.\n",
            "  warnings.warn(\n"
          ]
        },
        {
          "output_type": "stream",
          "name": "stdout",
          "text": [
            "Best Params: {'C': 10, 'gamma': 'scale', 'kernel': 'linear'}\n",
            "Accuracy: 0.7840909090909091\n",
            "Classification Report:\n",
            "               precision    recall  f1-score   support\n",
            "\n",
            "         0.0       0.89      0.94      0.92        69\n",
            "         0.5       0.29      0.36      0.32        11\n",
            "         1.0       0.00      0.00      0.00         7\n",
            "         2.0       0.00      0.00      0.00         1\n",
            "\n",
            "    accuracy                           0.78        88\n",
            "   macro avg       0.29      0.33      0.31        88\n",
            "weighted avg       0.73      0.78      0.76        88\n",
            "\n"
          ]
        },
        {
          "output_type": "stream",
          "name": "stderr",
          "text": [
            "/usr/local/lib/python3.11/dist-packages/sklearn/metrics/_classification.py:1565: UndefinedMetricWarning: Precision is ill-defined and being set to 0.0 in labels with no predicted samples. Use `zero_division` parameter to control this behavior.\n",
            "  _warn_prf(average, modifier, f\"{metric.capitalize()} is\", len(result))\n",
            "/usr/local/lib/python3.11/dist-packages/sklearn/metrics/_classification.py:1565: UndefinedMetricWarning: Precision is ill-defined and being set to 0.0 in labels with no predicted samples. Use `zero_division` parameter to control this behavior.\n",
            "  _warn_prf(average, modifier, f\"{metric.capitalize()} is\", len(result))\n",
            "/usr/local/lib/python3.11/dist-packages/sklearn/metrics/_classification.py:1565: UndefinedMetricWarning: Precision is ill-defined and being set to 0.0 in labels with no predicted samples. Use `zero_division` parameter to control this behavior.\n",
            "  _warn_prf(average, modifier, f\"{metric.capitalize()} is\", len(result))\n"
          ]
        }
      ]
    },
    {
      "cell_type": "code",
      "source": [
        "print(\"Best Kernel:\", grid1.best_params_)\n",
        "print(\"Best Params:\", grid2.best_params_)\n",
        "print(\"Best Params:\", grid3.best_params_)\n",
        "print(\"Best Params:\", grid4.best_params_)"
      ],
      "metadata": {
        "colab": {
          "base_uri": "https://localhost:8080/"
        },
        "id": "3nqo1w0pRTV8",
        "outputId": "ce9038f5-603b-450a-b1d8-aad8023f215f"
      },
      "execution_count": 25,
      "outputs": [
        {
          "output_type": "stream",
          "name": "stdout",
          "text": [
            "Best Kernel: {'kernel': 'linear'}\n",
            "Best Params: {'C': 10, 'gamma': 'scale'}\n",
            "Best Params: {'C': 10, 'degree': 3}\n",
            "Best Params: {'C': 10, 'gamma': 'scale', 'kernel': 'linear'}\n"
          ]
        }
      ]
    }
  ]
}